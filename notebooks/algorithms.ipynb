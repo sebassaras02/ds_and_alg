{
 "cells": [
  {
   "cell_type": "markdown",
   "metadata": {},
   "source": [
    "# Fundamentals of Algorithms\n",
    "\n",
    "This is a notebook which shows you the fundamentals of algorithms in computer science.\n",
    "\n",
    "The target public is for the data scientist and machine learning engineers interested to dig more on the fundamentals of coding.\n",
    "\n",
    "**Done by**: Sebastian Sarasti - Data Scientist and Machine Learning Engineer"
   ]
  },
  {
   "cell_type": "markdown",
   "metadata": {},
   "source": [
    "**Must know:**\n",
    "\n",
    "- To evaluate model performance, we are going to use the Big O notation. What is the Big O notation? Well, \"just an inchident race\" (F1 fans will understand). The Big O notation is a way to measure the steps needed to finish an algorithm. It represents the steps based on the number of element *n* to deal with.\n",
    "\n",
    "- The goal to use the Big O notation is to produce the algorithms with the lowest path to acomplish the desired goal.\n",
    "\n",
    "- The Big O notation will show something like this: $O (n)$. This means to finish the algorithm will need to perform *n* actions as *n* elements available in the dataset."
   ]
  },
  {
   "cell_type": "markdown",
   "metadata": {},
   "source": [
    "## Binary search"
   ]
  },
  {
   "cell_type": "markdown",
   "metadata": {},
   "source": [
    "### Theory \n",
    "\n",
    "- **Big O notation**\n",
    "    \n",
    "    $O (log(n))$\n",
    "\n",
    "- **When to use it?**\n",
    "\n",
    "    This is a selection algorithm. To make this clear, you have a target value and a set of numbers. You want to find where is this value in the set of elements. \n",
    "\n",
    "- **Constrains:**\n",
    "\n",
    "    You have to order the dataset before applying binary search.\n",
    "\n",
    "- **Logic:**\n",
    "\n",
    "    You define an anchor value or a pivot, this value should be in the middle of the array. If the target value is greater than the pivot, you will select the rigth subset (higher values than pivot). Otherwise, you will select the left values (lower values than pivot). If you apply this recursively, you will find the value."
   ]
  },
  {
   "cell_type": "markdown",
   "metadata": {},
   "source": [
    "### Python application"
   ]
  },
  {
   "cell_type": "code",
   "execution_count": 1,
   "metadata": {},
   "outputs": [],
   "source": [
    "# this will be the array sorted to find the target value\n",
    "array = [1, 2, 3, 4, 5, 6, 7, 8, 9, 10]\n",
    "# this will be the target value\n",
    "target = 8 "
   ]
  },
  {
   "cell_type": "code",
   "execution_count": 9,
   "metadata": {},
   "outputs": [],
   "source": [
    "def binary_search(arr: list, target_value: int) -> int:\n",
    "    if not arr:\n",
    "        return -1  # Target not found\n",
    "\n",
    "    # define the anchor to the left and right of the array\n",
    "    anchor_index = len(arr) // 2\n",
    "    anchor_value = arr[anchor_index]\n",
    "\n",
    "    # Check if the target value is equal to the middle element\n",
    "    if target_value == anchor_value:\n",
    "        print(\"Element found at position: \", anchor_index)\n",
    "        return anchor_index\n",
    "\n",
    "    # define the left and right of the array\n",
    "    left_array = arr[:anchor_index]\n",
    "    right_array = arr[anchor_index + 1:]\n",
    "\n",
    "    # create the conditional to filter the value\n",
    "    if target_value > anchor_value:\n",
    "        result = binary_search(right_array, target_value)\n",
    "        return anchor_index + 1 + result if result != -1 else -1\n",
    "    else:\n",
    "        return binary_search(left_array, target_value)"
   ]
  },
  {
   "cell_type": "markdown",
   "metadata": {},
   "source": [
    "See the results"
   ]
  },
  {
   "cell_type": "code",
   "execution_count": 10,
   "metadata": {},
   "outputs": [
    {
     "name": "stdout",
     "output_type": "stream",
     "text": [
      "Element found at position:  2\n"
     ]
    },
    {
     "data": {
      "text/plain": [
       "2"
      ]
     },
     "execution_count": 10,
     "metadata": {},
     "output_type": "execute_result"
    }
   ],
   "source": [
    "binary_search(\n",
    "    arr = array,\n",
    "    target_value = 3\n",
    ")"
   ]
  },
  {
   "cell_type": "markdown",
   "metadata": {},
   "source": [
    "## Selection sort"
   ]
  },
  {
   "cell_type": "markdown",
   "metadata": {},
   "source": [
    "### Theory \n",
    "\n",
    "- **Big O notation**\n",
    "    \n",
    "    $O (n^{2})$\n",
    "\n",
    "- **When to use it?**\n",
    "\n",
    "    This is an ordering algorithm to have an array from the lowest to the highest value. \n",
    "\n",
    "- **Constrains:**\n",
    "\n",
    "    It has to review all *n* elements in the dataset *n* times.\n",
    "\n",
    "- **Logic:**\n",
    "\n",
    "    You define which is the smallest value and start to delete one by one until having the highest value. In each iteration, you define the smallest value and then you delete this. "
   ]
  },
  {
   "cell_type": "markdown",
   "metadata": {},
   "source": [
    "### Python application"
   ]
  },
  {
   "cell_type": "markdown",
   "metadata": {},
   "source": [
    "Let's break it down, this problem:\n",
    "\n",
    "First, create a function to get the minimum value, and then applying the selection sort."
   ]
  },
  {
   "cell_type": "markdown",
   "metadata": {},
   "source": [
    "Function to find the lowest value in an array"
   ]
  },
  {
   "cell_type": "code",
   "execution_count": 18,
   "metadata": {},
   "outputs": [],
   "source": [
    "def find_minimum(array):\n",
    "    smallest = array[0]\n",
    "    smallest_index = 0\n",
    "    for i in range(len(array)):\n",
    "        if array[i] < smallest:\n",
    "            smallest = array[i]\n",
    "            smallest_index = i\n",
    "    return smallest_index"
   ]
  },
  {
   "cell_type": "markdown",
   "metadata": {},
   "source": [
    "Selection sort algorithm"
   ]
  },
  {
   "cell_type": "code",
   "execution_count": 16,
   "metadata": {},
   "outputs": [],
   "source": [
    "def selection_sort(array):\n",
    "    new_array = []\n",
    "    for i in range(len(array)):\n",
    "        smallest = find_minimum(array)\n",
    "        new_array.append(array.pop(smallest))\n",
    "    return new_array"
   ]
  },
  {
   "cell_type": "code",
   "execution_count": 22,
   "metadata": {},
   "outputs": [
    {
     "data": {
      "text/plain": [
       "[-5, 3, 6, 12, 45, 1212]"
      ]
     },
     "execution_count": 22,
     "metadata": {},
     "output_type": "execute_result"
    }
   ],
   "source": [
    "selection_sort(\n",
    "    [12, 45, 3, 6, 1212, -5]\n",
    ")"
   ]
  },
  {
   "cell_type": "markdown",
   "metadata": {},
   "source": [
    "## Quick Sort"
   ]
  },
  {
   "cell_type": "code",
   "execution_count": null,
   "metadata": {},
   "outputs": [],
   "source": []
  }
 ],
 "metadata": {
  "kernelspec": {
   "display_name": "devss",
   "language": "python",
   "name": "python3"
  },
  "language_info": {
   "codemirror_mode": {
    "name": "ipython",
    "version": 3
   },
   "file_extension": ".py",
   "mimetype": "text/x-python",
   "name": "python",
   "nbconvert_exporter": "python",
   "pygments_lexer": "ipython3",
   "version": "3.12.7"
  }
 },
 "nbformat": 4,
 "nbformat_minor": 2
}
